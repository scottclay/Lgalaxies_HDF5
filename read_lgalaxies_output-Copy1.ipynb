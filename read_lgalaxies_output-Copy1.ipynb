{
 "cells": [
  {
   "cell_type": "code",
   "execution_count": 1,
   "metadata": {},
   "outputs": [
    {
     "name": "stdout",
     "output_type": "stream",
     "text": [
      "/Users/scottclay/RESEARCH/lgalaxies/Lgalaxies_Analysis/read_data_pandas_hdf5\n"
     ]
    }
   ],
   "source": [
    "cd /Users/scottclay/RESEARCH/lgalaxies/Lgalaxies_Analysis/read_data_pandas_hdf5/"
   ]
  },
  {
   "cell_type": "code",
   "execution_count": 2,
   "metadata": {
    "collapsed": true
   },
   "outputs": [],
   "source": [
    "import sys\n",
    "\n",
    "datadir = '../../Hen15_Dustmodel/output/'\n",
    "\n",
    "sys.path.insert(0,datadir)\n",
    "\n",
    "# Template structure for L-Galaxies data\n",
    "#import snap_template   # structure temple for data\n",
    "#import read_lgal       # function to read in data\n"
   ]
  },
  {
   "cell_type": "code",
   "execution_count": 3,
   "metadata": {
    "collapsed": true
   },
   "outputs": [],
   "source": [
    "# numpy dtype for LGAL_GAL_STRUCT\n",
    "import numpy as np\n",
    "struct_dtype = np.dtype([\n",
    "('Type',np.int32,1),\n",
    "('HaloIndex',np.int32,1),\n",
    "('SnapNum',np.int32,1),\n",
    "('LookBackTimeToSnap',np.float32,1),\n",
    "('CentralMvir',np.float32,1),\n",
    "('CentralRvir',np.float32,1),\n",
    "('DistanceToCentralGal',np.float32,3),\n",
    "('Pos',np.float32,3),\n",
    "('Vel',np.float32,3),\n",
    "('Len',np.int32,1),\n",
    "('Mvir',np.float32,1),\n",
    "('Rvir',np.float32,1),\n",
    "('Vvir',np.float32,1),\n",
    "('Vmax',np.float32,1),\n",
    "('GasSpin',np.float32,3),\n",
    "('StellarSpin',np.float32,3),\n",
    "('InfallVmax',np.float32,1),\n",
    "('InfallVmaxPeak',np.float32,1),\n",
    "('InfallSnap',np.int32,1),\n",
    "('InfallHotGas',np.float32,1),\n",
    "('HotRadius',np.float32,1),\n",
    "('OriMergTime',np.float32,1),\n",
    "('MergTime',np.float32,1),\n",
    "('ColdGas',np.float32,1),\n",
    "('StellarMass',np.float32,1),\n",
    "('BulgeMass',np.float32,1),\n",
    "('DiskMass',np.float32,1),\n",
    "('HotGas',np.float32,1),\n",
    "('EjectedMass',np.float32,1),\n",
    "('BlackHoleMass',np.float32,1),\n",
    "('ICM',np.float32,1),\n",
    "('MetalsColdGas',np.float32,3),\n",
    "('MetalsBulgeMass',np.float32,3),\n",
    "('MetalsDiskMass',np.float32,3),\n",
    "('MetalsHotGas',np.float32,3),\n",
    "('MetalsEjectedMass',np.float32,3),\n",
    "('MetalsICM',np.float32,3),\n",
    "('PrimordialAccretionRate',np.float32,1),\n",
    "('CoolingRadius',np.float32,1),\n",
    "('CoolingRate',np.float32,1),\n",
    "('CoolingRate_beforeAGN',np.float32,1),\n",
    "('QuasarAccretionRate',np.float32,1),\n",
    "('RadioAccretionRate',np.float32,1),\n",
    "('Sfr',np.float32,1),\n",
    "('SfrBulge',np.float32,1),\n",
    "('XrayLum',np.float32,1),\n",
    "('BulgeSize',np.float32,1),\n",
    "('StellarDiskRadius',np.float32,1),\n",
    "('GasDiskRadius',np.float32,1),\n",
    "('CosInclination',np.float32,1),\n",
    "('DisruptOn',np.int32,1),\n",
    "('MergeOn',np.int32,1),\n",
    "('MagDust',np.float32,2),\n",
    "('Mag',np.float32,2),\n",
    "('MagBulge',np.float32,2),\n",
    "('MassWeightAge',np.float32,1),\n",
    "('DiskMass_elements',np.float32,11),\n",
    "('BulgeMass_elements',np.float32,11),\n",
    "('ColdGas_elements',np.float32,11),\n",
    "('HotGas_elements',np.float32,11),\n",
    "('ICM_elements',np.float32,11),\n",
    "('EjectedMass_elements',np.float32,11),\n",
    "('DustRatesISM',np.float32,5),\n",
    "('Dust_elements',np.float32,11),\n",
    "('Attenuation_Dust',np.float32,1)\n",
    "])\n",
    "\n",
    "properties_used = {}\n",
    "for ii in struct_dtype.names:\n",
    "    properties_used[ii] = False\n"
   ]
  },
  {
   "cell_type": "code",
   "execution_count": 4,
   "metadata": {
    "collapsed": true
   },
   "outputs": [],
   "source": [
    "def read_snap(folder,file_prefix,firstfile,lastfile,props,template):\n",
    "    nTrees = 0\n",
    "    nHalos = 0\n",
    "    nTreeHalos = np.array([],dtype=np.int32)\n",
    "    filter_list = []\n",
    "    for prop in props:\n",
    "        if props[prop]:\n",
    "            filter_list.append((prop,template[prop]))\n",
    "    filter_dtype = np.dtype(filter_list)\n",
    "    gals = np.array([],dtype=filter_dtype)\n",
    "    for ifile in range(firstfile,lastfile+1):\n",
    "        filename = folder+'/'+file_prefix+\"_\"+\"%d\"%(ifile)\n",
    "        f = open(filename,\"rb\")\n",
    "        this_nTrees =  np.fromfile(f,np.int32,1)\n",
    "        nTrees += this_nTrees\n",
    "        this_nHalos = np.fromfile(f,np.int32,1)\n",
    "        nHalos += this_nHalos\n",
    "        print (\"File \", ifile,\" nGals = \",this_nHalos)\n",
    "        addednTreeHalos = np.fromfile(f,np.int32,this_nTrees)\n",
    "        nTreeHalos = np.append(nTreeHalos,addednTreeHalos)\n",
    "        this_addedGalaxy = np.fromfile(f,template,this_nHalos) # all properties\n",
    "        addedGalaxy = np.zeros(this_nHalos,dtype=filter_dtype) # selected props\n",
    "        for prop in template.names:\n",
    "            if props[prop]:\n",
    "                addedGalaxy[prop] = this_addedGalaxy[prop]\n",
    "        gals = np.append(gals,addedGalaxy)      \n",
    "        f.close()\n",
    "    return (nTrees,nHalos,nTreeHalos,gals)"
   ]
  },
  {
   "cell_type": "code",
   "execution_count": 5,
   "metadata": {
    "collapsed": true
   },
   "outputs": [],
   "source": [
    "def read_snap(folder,file_prefix,firstfile,lastfile,props,template):\n",
    "    \"\"\" Reads L-Galaxy output files.\n",
    "    Returns: (nTrees,nHalos,nTreeHalos,gals)\n",
    "    Inputs: (folder,file_prefix,firstfile,lastfile,props,template)\n",
    "    props - list of properties to return\n",
    "    template - structure dtype definition for database \"\"\"\n",
    "    filter_list = []\n",
    "    for prop in props:\n",
    "        if props[prop]:\n",
    "            filter_list.append((prop,template[prop]))\n",
    "    filter_dtype = np.dtype(filter_list)\n",
    "    # First loop to determine how many galaxies there are:\n",
    "    nTrees = 0\n",
    "    nHalos = 0\n",
    "    for ifile in range(firstfile,lastfile+1):\n",
    "        filename = folder+'/'+file_prefix+\"_\"+\"%d\"%(ifile)\n",
    "        f = open(filename,\"rb\")\n",
    "        this_nTrees =  np.fromfile(f,np.int32,1)[0]\n",
    "        nTrees += this_nTrees\n",
    "        this_nHalos = np.fromfile(f,np.int32,1)[0]\n",
    "        nHalos += this_nHalos\n",
    "        f.close()\n",
    "    # Allocate arrays\n",
    "    print(\"Total nGals = \",nHalos)\n",
    "    nTreeHalos = np.empty(nTrees,dtype=np.int32)\n",
    "    gals = np.empty(nHalos,dtype=filter_dtype)\n",
    "    # Second loop to populate arrays\n",
    "    nTrees = 0\n",
    "    nHalos = 0\n",
    "    for ifile in range(firstfile,lastfile+1):\n",
    "        filename = folder+'/'+file_prefix+\"_\"+\"%d\"%(ifile)\n",
    "        f = open(filename,\"rb\")\n",
    "        this_nTrees =  np.fromfile(f,np.int32,1)[0]\n",
    "        this_nHalos = np.fromfile(f,np.int32,1)[0]\n",
    "        print(\"File \", ifile,\" nGals = \",this_nHalos)\n",
    "        addednTreeHalos = np.fromfile(f,np.int32,this_nTrees)\n",
    "        nTreeHalos[nTrees:nTrees+this_nTrees]=addednTreeHalos\n",
    "        this_addedGalaxy = np.fromfile(f,template,this_nHalos) # all properties\n",
    "        addedGalaxy = np.empty(this_nHalos,dtype=filter_dtype) # selected props\n",
    "        for prop in template.names:\n",
    "            if props[prop]:\n",
    "#                try:\n",
    "                addedGalaxy[prop] = this_addedGalaxy[prop]\n",
    "#                except:\n",
    "#                    embed()\n",
    "        gals[nHalos:nHalos+this_nHalos] = addedGalaxy\n",
    "        nTrees += this_nTrees\n",
    "        nHalos += this_nHalos\n",
    "        f.close()\n",
    "    return (nTrees,nHalos,nTreeHalos,gals)"
   ]
  },
  {
   "cell_type": "code",
   "execution_count": 6,
   "metadata": {
    "collapsed": true
   },
   "outputs": [],
   "source": [
    "snaplist_file = '../MRPlancksnaplist.txt'"
   ]
  },
  {
   "cell_type": "code",
   "execution_count": 7,
   "metadata": {
    "collapsed": true
   },
   "outputs": [],
   "source": [
    "snapshot=15\n",
    "file_prefix = \"SA_z6.97\"\n",
    "output_file = \"lgal_z7.pkl\"\n",
    "\n",
    "snapshot=58\n",
    "file_prefix = \"SA_z0.00\"\n",
    "output_file = \"lgal_z0.pkl\"\n"
   ]
  },
  {
   "cell_type": "code",
   "execution_count": 8,
   "metadata": {
    "collapsed": true
   },
   "outputs": [],
   "source": [
    "# Define which files you want to read in\n",
    "firstfile = 5\n",
    "lastfile = 5 #511\n",
    "\n",
    "# Define what properties you want to read in\n",
    "props = properties_used\n",
    "\n",
    "props['Type'] = True\n",
    "props['ColdGas'] = True\n",
    "props['StellarMass'] = True\n",
    "props['BulgeMass'] = True\n",
    "props['DiskMass'] = True\n",
    "props['HotGas'] = True\n",
    "props['ICM'] = True\n",
    "props['MetalsColdGas'] = True\n",
    "props['MetalsBulgeMass'] = True\n",
    "props['MetalsDiskMass'] = True\n",
    "props['MetalsHotGas'] = True\n",
    "props['MetalsEjectedMass'] = True\n",
    "props['MetalsICM'] = True\n",
    "props['Sfr'] = True\n",
    "props['SfrBulge'] = True\n",
    "props['DiskMass_elements'] = True\n",
    "props['BulgeMass_elements'] = True\n",
    "props['ColdGas_elements'] = True\n",
    "props['HotGas_elements'] = True\n",
    "#props['DustMassISM'] = True\n",
    "props['DustRatesISM'] = True\n",
    "props['Dust_elements'] = True\n",
    "props['Attenuation_Dust'] = True\n",
    "props['Mag'] = True\n",
    "props['MagDust'] = True\n",
    "props['GasDiskRadius'] = True"
   ]
  },
  {
   "cell_type": "code",
   "execution_count": 9,
   "metadata": {},
   "outputs": [
    {
     "data": {
      "text/plain": [
       "[dtype('int32'),\n",
       " dtype('float32'),\n",
       " dtype('float32'),\n",
       " dtype('float32'),\n",
       " dtype('float32'),\n",
       " dtype('float32'),\n",
       " dtype('float32'),\n",
       " dtype(('<f4', (3,))),\n",
       " dtype(('<f4', (3,))),\n",
       " dtype(('<f4', (3,))),\n",
       " dtype(('<f4', (3,))),\n",
       " dtype(('<f4', (3,))),\n",
       " dtype(('<f4', (3,))),\n",
       " dtype('float32'),\n",
       " dtype('float32'),\n",
       " dtype('float32'),\n",
       " dtype(('<f4', (2,))),\n",
       " dtype(('<f4', (2,))),\n",
       " dtype(('<f4', (11,))),\n",
       " dtype(('<f4', (11,))),\n",
       " dtype(('<f4', (11,))),\n",
       " dtype(('<f4', (11,))),\n",
       " dtype(('<f4', (5,))),\n",
       " dtype(('<f4', (11,))),\n",
       " dtype('float32')]"
      ]
     },
     "execution_count": 9,
     "metadata": {},
     "output_type": "execute_result"
    }
   ],
   "source": [
    "columns = []\n",
    "columns_dt = []\n",
    "for i in props.keys():\n",
    "    if props[i]==True:\n",
    "        columns.append(i)\n",
    "        columns_dt.append(struct_dtype[i])\n",
    "        #print(i,struct_dtype[i])\n",
    "columns_dt\n",
    "#columns"
   ]
  },
  {
   "cell_type": "code",
   "execution_count": 16,
   "metadata": {},
   "outputs": [
    {
     "name": "stdout",
     "output_type": "stream",
     "text": [
      "Total nGals =  45631\n",
      "File  5  nGals =  45631\n"
     ]
    }
   ],
   "source": [
    "(nTrees,nHalos,nTreeHalos,gals) = \\\n",
    "    read_snap(datadir,file_prefix,5,5,\\\n",
    "                            props,struct_dtype)\n",
    "gals_5 = gals"
   ]
  },
  {
   "cell_type": "code",
   "execution_count": 17,
   "metadata": {},
   "outputs": [
    {
     "name": "stdout",
     "output_type": "stream",
     "text": [
      "Total nGals =  56497\n",
      "File  6  nGals =  56497\n"
     ]
    }
   ],
   "source": [
    "(nTrees,nHalos,nTreeHalos,gals) = \\\n",
    "    read_snap(datadir,file_prefix,6,6,\\\n",
    "                            props,struct_dtype)\n",
    "gals_6 = gals"
   ]
  },
  {
   "cell_type": "code",
   "execution_count": 18,
   "metadata": {},
   "outputs": [
    {
     "name": "stdout",
     "output_type": "stream",
     "text": [
      "Total nGals =  49843\n",
      "File  7  nGals =  49843\n"
     ]
    }
   ],
   "source": [
    "(nTrees,nHalos,nTreeHalos,gals) = \\\n",
    "    read_snap(datadir,file_prefix,7,7,\\\n",
    "                            props,struct_dtype)\n",
    "gals_7 = gals"
   ]
  },
  {
   "cell_type": "code",
   "execution_count": 26,
   "metadata": {},
   "outputs": [
    {
     "data": {
      "text/plain": [
       "dtype([('Type', '<i4'), ('ColdGas', '<f4'), ('StellarMass', '<f4'), ('BulgeMass', '<f4'), ('DiskMass', '<f4'), ('HotGas', '<f4'), ('ICM', '<f4'), ('MetalsColdGas', '<f4', (3,)), ('MetalsBulgeMass', '<f4', (3,)), ('MetalsDiskMass', '<f4', (3,)), ('MetalsHotGas', '<f4', (3,)), ('MetalsEjectedMass', '<f4', (3,)), ('MetalsICM', '<f4', (3,)), ('Sfr', '<f4'), ('SfrBulge', '<f4'), ('GasDiskRadius', '<f4'), ('MagDust', '<f4', (2,)), ('Mag', '<f4', (2,)), ('DiskMass_elements', '<f4', (11,)), ('BulgeMass_elements', '<f4', (11,)), ('ColdGas_elements', '<f4', (11,)), ('HotGas_elements', '<f4', (11,)), ('DustRatesISM', '<f4', (5,)), ('Dust_elements', '<f4', (11,)), ('Attenuation_Dust', '<f4')])"
      ]
     },
     "execution_count": 26,
     "metadata": {},
     "output_type": "execute_result"
    }
   ],
   "source": [
    "gals_5.dtype"
   ]
  },
  {
   "cell_type": "code",
   "execution_count": 32,
   "metadata": {},
   "outputs": [],
   "source": [
    "gals = np.hstack((gals_5, gals_6, gals_7))"
   ]
  },
  {
   "cell_type": "code",
   "execution_count": 34,
   "metadata": {},
   "outputs": [
    {
     "data": {
      "text/plain": [
       "array([0, 1, 2], dtype=int32)"
      ]
     },
     "execution_count": 34,
     "metadata": {},
     "output_type": "execute_result"
    }
   ],
   "source": [
    "np.unique(gals['Type'])"
   ]
  },
  {
   "cell_type": "code",
   "execution_count": 35,
   "metadata": {},
   "outputs": [
    {
     "data": {
      "text/plain": [
       "151971"
      ]
     },
     "execution_count": 35,
     "metadata": {},
     "output_type": "execute_result"
    }
   ],
   "source": [
    "len(gals['Type'])"
   ]
  },
  {
   "cell_type": "code",
   "execution_count": 40,
   "metadata": {},
   "outputs": [],
   "source": [
    "DM_MR = np.sum(gals['Dust_elements'], axis=1)"
   ]
  },
  {
   "cell_type": "code",
   "execution_count": 41,
   "metadata": {},
   "outputs": [
    {
     "data": {
      "text/plain": [
       "151971"
      ]
     },
     "execution_count": 41,
     "metadata": {},
     "output_type": "execute_result"
    }
   ],
   "source": [
    "len(DM_MR)"
   ]
  },
  {
   "cell_type": "code",
   "execution_count": 42,
   "metadata": {
    "collapsed": true
   },
   "outputs": [],
   "source": [
    "import pandas as pd"
   ]
  },
  {
   "cell_type": "code",
   "execution_count": 43,
   "metadata": {
    "collapsed": true
   },
   "outputs": [],
   "source": [
    "df = pd.DataFrame()"
   ]
  },
  {
   "cell_type": "code",
   "execution_count": 44,
   "metadata": {
    "collapsed": true
   },
   "outputs": [],
   "source": [
    "df['Type'] = gals['Type']"
   ]
  },
  {
   "cell_type": "code",
   "execution_count": 48,
   "metadata": {},
   "outputs": [
    {
     "data": {
      "text/html": [
       "<div>\n",
       "<style>\n",
       "    .dataframe thead tr:only-child th {\n",
       "        text-align: right;\n",
       "    }\n",
       "\n",
       "    .dataframe thead th {\n",
       "        text-align: left;\n",
       "    }\n",
       "\n",
       "    .dataframe tbody tr th {\n",
       "        vertical-align: top;\n",
       "    }\n",
       "</style>\n",
       "<table border=\"1\" class=\"dataframe\">\n",
       "  <thead>\n",
       "    <tr style=\"text-align: right;\">\n",
       "      <th></th>\n",
       "      <th>Type</th>\n",
       "    </tr>\n",
       "  </thead>\n",
       "  <tbody>\n",
       "    <tr>\n",
       "      <th>0</th>\n",
       "      <td>0</td>\n",
       "    </tr>\n",
       "    <tr>\n",
       "      <th>1</th>\n",
       "      <td>1</td>\n",
       "    </tr>\n",
       "    <tr>\n",
       "      <th>2</th>\n",
       "      <td>2</td>\n",
       "    </tr>\n",
       "    <tr>\n",
       "      <th>3</th>\n",
       "      <td>0</td>\n",
       "    </tr>\n",
       "    <tr>\n",
       "      <th>4</th>\n",
       "      <td>1</td>\n",
       "    </tr>\n",
       "  </tbody>\n",
       "</table>\n",
       "</div>"
      ],
      "text/plain": [
       "   Type\n",
       "0     0\n",
       "1     1\n",
       "2     2\n",
       "3     0\n",
       "4     1"
      ]
     },
     "execution_count": 48,
     "metadata": {},
     "output_type": "execute_result"
    }
   ],
   "source": [
    "df.head(5)"
   ]
  },
  {
   "cell_type": "code",
   "execution_count": 49,
   "metadata": {
    "collapsed": true
   },
   "outputs": [],
   "source": [
    "H_Mass_Dust  = gals['Dust_elements'][:,0]\n",
    "He_Mass_Dust = gals['Dust_elements'][:,1]\n",
    "Cb_Mass_Dust = gals['Dust_elements'][:,2]\n",
    "N_Mass_Dust  = gals['Dust_elements'][:,3]\n",
    "O_Mass_Dust  = gals['Dust_elements'][:,4]\n",
    "Ne_Mass_Dust = gals['Dust_elements'][:,5]\n",
    "Mg_Mass_Dust = gals['Dust_elements'][:,6]\n",
    "Si_Mass_Dust = gals['Dust_elements'][:,7]\n",
    "S_Mass_Dust  = gals['Dust_elements'][:,8]\n",
    "Ca_Mass_Dust = gals['Dust_elements'][:,9]\n",
    "Fe_Mass_Dust = gals['Dust_elements'][:,10]\n"
   ]
  },
  {
   "cell_type": "code",
   "execution_count": 54,
   "metadata": {},
   "outputs": [
    {
     "data": {
      "text/plain": [
       "array([  628166.25      ,  1329056.75      ,   416839.75      , ...,\n",
       "          17094.18945312,        0.        ,    12286.13085938], dtype=float32)"
      ]
     },
     "execution_count": 54,
     "metadata": {},
     "output_type": "execute_result"
    }
   ],
   "source": [
    "Cb_Mass_Dust"
   ]
  },
  {
   "cell_type": "code",
   "execution_count": 55,
   "metadata": {},
   "outputs": [
    {
     "data": {
      "text/plain": [
       "array([[       0.        ,        0.        ,   628166.25      , ...,\n",
       "               0.        ,        0.        ,   156684.921875  ],\n",
       "       [       0.        ,        0.        ,  1329056.75      , ...,\n",
       "               0.        ,        0.        ,   198600.875     ],\n",
       "       [       0.        ,        0.        ,   416839.75      , ...,\n",
       "               0.        ,        0.        ,    87878.7578125 ],\n",
       "       ..., \n",
       "       [       0.        ,        0.        ,    17094.18945312, ...,\n",
       "               0.        ,        0.        ,    24717.23046875],\n",
       "       [       0.        ,        0.        ,        0.        , ...,\n",
       "               0.        ,        0.        ,        0.        ],\n",
       "       [       0.        ,        0.        ,    12286.13085938, ...,\n",
       "               0.        ,        0.        ,    15649.93359375]], dtype=float32)"
      ]
     },
     "execution_count": 55,
     "metadata": {},
     "output_type": "execute_result"
    }
   ],
   "source": [
    "gals['Dust_elements']"
   ]
  },
  {
   "cell_type": "code",
   "execution_count": 59,
   "metadata": {
    "collapsed": true
   },
   "outputs": [],
   "source": [
    "Metal_Mass= np.sum(gals['ColdGas_elements'][:,2:11],axis=1)"
   ]
  },
  {
   "cell_type": "code",
   "execution_count": 60,
   "metadata": {},
   "outputs": [
    {
     "data": {
      "text/plain": [
       "array([ 2831684.75 ,  5356789.   ,   596251.875, ...,  1367694.375,\n",
       "              0.   ,  1711306.5  ], dtype=float32)"
      ]
     },
     "execution_count": 60,
     "metadata": {},
     "output_type": "execute_result"
    }
   ],
   "source": [
    "Metal_Mass"
   ]
  },
  {
   "cell_type": "code",
   "execution_count": 70,
   "metadata": {},
   "outputs": [
    {
     "data": {
      "text/plain": [
       "2831684.8"
      ]
     },
     "execution_count": 70,
     "metadata": {},
     "output_type": "execute_result"
    }
   ],
   "source": [
    "np.sum(gals[0]['ColdGas_elements'][2:])"
   ]
  },
  {
   "cell_type": "code",
   "execution_count": 71,
   "metadata": {
    "collapsed": true
   },
   "outputs": [],
   "source": [
    "H_Mass  = gals['ColdGas_elements'][:,0]"
   ]
  },
  {
   "cell_type": "code",
   "execution_count": 72,
   "metadata": {},
   "outputs": [
    {
     "data": {
      "text/plain": [
       "array([  1.77367501e+09,   9.09552448e+08,   2.63940160e+08, ...,\n",
       "         3.94400544e+08,   2.24897168e+08,   7.60285184e+08], dtype=float32)"
      ]
     },
     "execution_count": 72,
     "metadata": {},
     "output_type": "execute_result"
    }
   ],
   "source": [
    "H_Mass"
   ]
  },
  {
   "cell_type": "code",
   "execution_count": 73,
   "metadata": {},
   "outputs": [
    {
     "data": {
      "text/plain": [
       "array([[  1.77367501e+09,   6.03056320e+08,   3.34294375e+05, ...,\n",
       "          1.32185094e+05,   1.73330820e+04,   1.50831797e+05],\n",
       "       [  9.09552448e+08,   3.34422656e+08,   7.78810438e+05, ...,\n",
       "          3.79520625e+05,   5.07037422e+04,   4.11850219e+05],\n",
       "       [  2.63940160e+08,   9.42256960e+07,   3.95508008e+04, ...,\n",
       "          6.88563047e+04,   9.24765039e+03,   3.20055918e+04],\n",
       "       ..., \n",
       "       [  3.94400544e+08,   1.34441136e+08,   2.02159938e+05, ...,\n",
       "          3.42331953e+04,   4.46507227e+03,   5.57810469e+04],\n",
       "       [  2.24897168e+08,   7.49657120e+07,   0.00000000e+00, ...,\n",
       "          0.00000000e+00,   0.00000000e+00,   0.00000000e+00],\n",
       "       [  7.60285184e+08,   2.56913168e+08,   1.62926859e+05, ...,\n",
       "          4.50094414e+04,   5.85349512e+03,   8.91931875e+04]], dtype=float32)"
      ]
     },
     "execution_count": 73,
     "metadata": {},
     "output_type": "execute_result"
    }
   ],
   "source": [
    "gals['ColdGas_elements']"
   ]
  },
  {
   "cell_type": "code",
   "execution_count": null,
   "metadata": {
    "collapsed": true
   },
   "outputs": [],
   "source": []
  }
 ],
 "metadata": {
  "kernelspec": {
   "display_name": "Python 3",
   "language": "python",
   "name": "python3"
  },
  "language_info": {
   "codemirror_mode": {
    "name": "ipython",
    "version": 3
   },
   "file_extension": ".py",
   "mimetype": "text/x-python",
   "name": "python",
   "nbconvert_exporter": "python",
   "pygments_lexer": "ipython3",
   "version": "3.6.1"
  }
 },
 "nbformat": 4,
 "nbformat_minor": 2
}
