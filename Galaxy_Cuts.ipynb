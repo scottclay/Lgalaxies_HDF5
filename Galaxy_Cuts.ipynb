{
 "cells": [
  {
   "cell_type": "markdown",
   "metadata": {},
   "source": [
    "# Galaxy Cuts"
   ]
  },
  {
   "cell_type": "markdown",
   "metadata": {},
   "source": [
    "Notebook experiments with looking at cutting the galaxies below the mass resolution from the saved pickeled data."
   ]
  },
  {
   "cell_type": "code",
   "execution_count": 1,
   "metadata": {},
   "outputs": [
    {
     "name": "stdout",
     "output_type": "stream",
     "text": [
      "/Users/scottclay/RESEARCH/lgalaxies/Lgalaxies_Analysis/read_data_pandas_hdf5\n"
     ]
    }
   ],
   "source": [
    "cd /Users/scottclay/RESEARCH/lgalaxies/Lgalaxies_Analysis/read_data_pandas_hdf5/"
   ]
  },
  {
   "cell_type": "code",
   "execution_count": 1,
   "metadata": {
    "collapsed": true
   },
   "outputs": [],
   "source": [
    "import sys\n",
    "datadir = '../../Hen15_Dustmodel/output/'\n",
    "sys.path.insert(0,datadir)"
   ]
  },
  {
   "cell_type": "code",
   "execution_count": 2,
   "metadata": {
    "collapsed": true
   },
   "outputs": [],
   "source": [
    "# numpy dtype for LGAL_GAL_STRUCT\n",
    "import numpy as np\n",
    "struct_dtype = np.dtype([\n",
    "('Type',np.int32,1),\n",
    "('HaloIndex',np.int32,1),\n",
    "('SnapNum',np.int32,1),\n",
    "('LookBackTimeToSnap',np.float32,1),\n",
    "('CentralMvir',np.float32,1),\n",
    "('CentralRvir',np.float32,1),\n",
    "('DistanceToCentralGal',np.float32,3),\n",
    "('Pos',np.float32,3),\n",
    "('Vel',np.float32,3),\n",
    "('Len',np.int32,1),\n",
    "('Mvir',np.float32,1),\n",
    "('Rvir',np.float32,1),\n",
    "('Vvir',np.float32,1),\n",
    "('Vmax',np.float32,1),\n",
    "('GasSpin',np.float32,3),\n",
    "('StellarSpin',np.float32,3),\n",
    "('InfallVmax',np.float32,1),\n",
    "('InfallVmaxPeak',np.float32,1),\n",
    "('InfallSnap',np.int32,1),\n",
    "('InfallHotGas',np.float32,1),\n",
    "('HotRadius',np.float32,1),\n",
    "('OriMergTime',np.float32,1),\n",
    "('MergTime',np.float32,1),\n",
    "('ColdGas',np.float32,1),\n",
    "('StellarMass',np.float32,1),\n",
    "('BulgeMass',np.float32,1),\n",
    "('DiskMass',np.float32,1),\n",
    "('HotGas',np.float32,1),\n",
    "('EjectedMass',np.float32,1),\n",
    "('BlackHoleMass',np.float32,1),\n",
    "('ICM',np.float32,1),\n",
    "('MetalsColdGas',np.float32,3),\n",
    "('MetalsBulgeMass',np.float32,3),\n",
    "('MetalsDiskMass',np.float32,3),\n",
    "('MetalsHotGas',np.float32,3),\n",
    "('MetalsEjectedMass',np.float32,3),\n",
    "('MetalsICM',np.float32,3),\n",
    "('PrimordialAccretionRate',np.float32,1),\n",
    "('CoolingRadius',np.float32,1),\n",
    "('CoolingRate',np.float32,1),\n",
    "('CoolingRate_beforeAGN',np.float32,1),\n",
    "('QuasarAccretionRate',np.float32,1),\n",
    "('RadioAccretionRate',np.float32,1),\n",
    "('Sfr',np.float32,1),\n",
    "('SfrBulge',np.float32,1),\n",
    "('XrayLum',np.float32,1),\n",
    "('BulgeSize',np.float32,1),\n",
    "('StellarDiskRadius',np.float32,1),\n",
    "('GasDiskRadius',np.float32,1),\n",
    "('CosInclination',np.float32,1),\n",
    "('DisruptOn',np.int32,1),\n",
    "('MergeOn',np.int32,1),\n",
    "('MagDust',np.float32,2),\n",
    "('Mag',np.float32,2),\n",
    "('MagBulge',np.float32,2),\n",
    "('MassWeightAge',np.float32,1),\n",
    "('DiskMass_elements',np.float32,11),\n",
    "('BulgeMass_elements',np.float32,11),\n",
    "('ColdGas_elements',np.float32,11),\n",
    "('HotGas_elements',np.float32,11),\n",
    "('ICM_elements',np.float32,11),\n",
    "('EjectedMass_elements',np.float32,11),\n",
    "('DustRatesISM',np.float32,5),\n",
    "('Dust_elements',np.float32,11),\n",
    "('Attenuation_Dust',np.float32,1)\n",
    "])\n",
    "\n",
    "properties_used = {}\n",
    "for ii in struct_dtype.names:\n",
    "    properties_used[ii] = False\n",
    "\n"
   ]
  },
  {
   "cell_type": "code",
   "execution_count": 3,
   "metadata": {
    "collapsed": true
   },
   "outputs": [],
   "source": [
    "def read_snap(folder,file_prefix,firstfile,lastfile,props,template):\n",
    "    \"\"\" Reads L-Galaxy output files.\n",
    "    Returns: (nTrees,nHalos,nTreeHalos,gals)\n",
    "    Inputs: (folder,file_prefix,firstfile,lastfile,props,template)\n",
    "    props - list of properties to return\n",
    "    template - structure dtype definition for database \"\"\"\n",
    "    filter_list = []\n",
    "    for prop in props:\n",
    "        if props[prop]:\n",
    "            filter_list.append((prop,template[prop]))\n",
    "    filter_dtype = np.dtype(filter_list)\n",
    "    # First loop to determine how many galaxies there are:\n",
    "    nTrees = 0\n",
    "    nHalos = 0\n",
    "    for ifile in range(firstfile,lastfile+1):\n",
    "        filename = folder+'/'+file_prefix+\"_\"+\"%d\"%(ifile)\n",
    "        f = open(filename,\"rb\")\n",
    "        this_nTrees =  np.fromfile(f,np.int32,1)[0]\n",
    "        nTrees += this_nTrees\n",
    "        this_nHalos = np.fromfile(f,np.int32,1)[0]\n",
    "        nHalos += this_nHalos\n",
    "        f.close()\n",
    "    # Allocate arrays\n",
    "    print(\"Total nGals = \",nHalos)\n",
    "    nTreeHalos = np.empty(nTrees,dtype=np.int32)\n",
    "    gals = np.empty(nHalos,dtype=filter_dtype)\n",
    "    # Second loop to populate arrays\n",
    "    nTrees = 0\n",
    "    nHalos = 0\n",
    "    for ifile in range(firstfile,lastfile+1):\n",
    "        filename = folder+'/'+file_prefix+\"_\"+\"%d\"%(ifile)\n",
    "        f = open(filename,\"rb\")\n",
    "        this_nTrees =  np.fromfile(f,np.int32,1)[0]\n",
    "        this_nHalos = np.fromfile(f,np.int32,1)[0]\n",
    "        print(\"File \", ifile,\" nGals = \",this_nHalos)\n",
    "        addednTreeHalos = np.fromfile(f,np.int32,this_nTrees)\n",
    "        nTreeHalos[nTrees:nTrees+this_nTrees]=addednTreeHalos\n",
    "        this_addedGalaxy = np.fromfile(f,template,this_nHalos) # all properties\n",
    "        addedGalaxy = np.empty(this_nHalos,dtype=filter_dtype) # selected props\n",
    "        for prop in template.names:\n",
    "            if props[prop]:\n",
    "#                try:\n",
    "                addedGalaxy[prop] = this_addedGalaxy[prop]\n",
    "#                except:\n",
    "#                    embed()\n",
    "        gals[nHalos:nHalos+this_nHalos] = addedGalaxy\n",
    "        nTrees += this_nTrees\n",
    "        nHalos += this_nHalos\n",
    "        f.close()\n",
    "    return (nTrees,nHalos,nTreeHalos,gals)"
   ]
  },
  {
   "cell_type": "code",
   "execution_count": 4,
   "metadata": {
    "collapsed": true
   },
   "outputs": [],
   "source": [
    "snaplist_file = '../MRPlancksnaplist.txt'"
   ]
  },
  {
   "cell_type": "code",
   "execution_count": 5,
   "metadata": {
    "collapsed": true
   },
   "outputs": [],
   "source": [
    "snapshot=15\n",
    "file_prefix = \"SA_z6.97\"\n",
    "output_file = \"lgal_z7.pkl\"\n",
    "\n",
    "snapshot=58\n",
    "file_prefix = \"SA_z0.00\"\n",
    "output_file = \"lgal_z0.pkl\"\n",
    "\n"
   ]
  },
  {
   "cell_type": "code",
   "execution_count": 8,
   "metadata": {
    "collapsed": true
   },
   "outputs": [],
   "source": [
    "\n",
    "# Define what properties you want to read in\n",
    "props = properties_used\n",
    "\n",
    "props['Type'] = True\n",
    "props['ColdGas'] = True\n",
    "props['StellarMass'] = True\n",
    "props['BulgeMass'] = True\n",
    "props['DiskMass'] = True\n",
    "props['HotGas'] = True\n",
    "props['ICM'] = True\n",
    "props['MetalsColdGas'] = True\n",
    "props['MetalsBulgeMass'] = True\n",
    "props['MetalsDiskMass'] = True\n",
    "props['MetalsHotGas'] = True\n",
    "props['MetalsEjectedMass'] = True\n",
    "props['MetalsICM'] = True\n",
    "props['Sfr'] = True\n",
    "props['SfrBulge'] = True\n",
    "props['DiskMass_elements'] = True\n",
    "props['BulgeMass_elements'] = True\n",
    "props['ColdGas_elements'] = True\n",
    "props['HotGas_elements'] = True\n",
    "#props['DustMassISM'] = True\n",
    "props['DustRatesISM'] = True\n",
    "props['Dust_elements'] = True\n",
    "props['Attenuation_Dust'] = True\n",
    "props['Mag'] = True\n",
    "props['MagDust'] = True\n",
    "props['GasDiskRadius'] = True"
   ]
  },
  {
   "cell_type": "markdown",
   "metadata": {},
   "source": [
    "# MRII"
   ]
  },
  {
   "cell_type": "code",
   "execution_count": 9,
   "metadata": {},
   "outputs": [
    {
     "name": "stdout",
     "output_type": "stream",
     "text": [
      "Total nGals =  24614\n",
      "File  40  nGals =  24614\n"
     ]
    }
   ],
   "source": [
    "# Define which files you want to read in\n",
    "firstfile = 40\n",
    "lastfile = 40 #511\n",
    "\n",
    "(nTrees,nHalos,nTreeHalos,gals) = \\\n",
    "    read_snap(datadir,file_prefix,firstfile,lastfile,\\\n",
    "                            props,struct_dtype)"
   ]
  },
  {
   "cell_type": "code",
   "execution_count": 10,
   "metadata": {},
   "outputs": [
    {
     "name": "stdout",
     "output_type": "stream",
     "text": [
      "Number of galaxies in MRII: 24614\n"
     ]
    }
   ],
   "source": [
    "print('Number of galaxies in MRII:',len(gals))\n"
   ]
  },
  {
   "cell_type": "code",
   "execution_count": 11,
   "metadata": {},
   "outputs": [
    {
     "data": {
      "text/plain": [
       "9570"
      ]
     },
     "execution_count": 11,
     "metadata": {},
     "output_type": "execute_result"
    }
   ],
   "source": [
    "len(gals[gals['StellarMass']>0.0]['StellarMass']*1.0E10/0.673)"
   ]
  },
  {
   "cell_type": "code",
   "execution_count": 12,
   "metadata": {},
   "outputs": [
    {
     "data": {
      "text/plain": [
       "1379"
      ]
     },
     "execution_count": 12,
     "metadata": {},
     "output_type": "execute_result"
    }
   ],
   "source": [
    "len(gals[gals['StellarMass']*1.0E10/0.673>1.0E7]['StellarMass']*1.0E10/0.673)"
   ]
  },
  {
   "cell_type": "markdown",
   "metadata": {},
   "source": [
    "# MR"
   ]
  },
  {
   "cell_type": "code",
   "execution_count": 13,
   "metadata": {},
   "outputs": [
    {
     "name": "stdout",
     "output_type": "stream",
     "text": [
      "Total nGals =  45631\n",
      "File  5  nGals =  45631\n"
     ]
    }
   ],
   "source": [
    "# Define which files you want to read in\n",
    "firstfile = 5\n",
    "lastfile = 5 #511\n",
    "\n",
    "(nTrees,nHalos,nTreeHalos,gals) = \\\n",
    "    read_snap(datadir,file_prefix,firstfile,lastfile,\\\n",
    "                            props,struct_dtype)"
   ]
  },
  {
   "cell_type": "code",
   "execution_count": 14,
   "metadata": {},
   "outputs": [
    {
     "name": "stdout",
     "output_type": "stream",
     "text": [
      "Number of galaxies in MR: 45631\n"
     ]
    }
   ],
   "source": [
    "print('Number of galaxies in MR:',len(gals))"
   ]
  },
  {
   "cell_type": "code",
   "execution_count": 15,
   "metadata": {},
   "outputs": [
    {
     "data": {
      "text/plain": [
       "44858"
      ]
     },
     "execution_count": 15,
     "metadata": {},
     "output_type": "execute_result"
    }
   ],
   "source": [
    "len(gals[gals['StellarMass']>0.0]['StellarMass']*1.0E10/0.673)"
   ]
  },
  {
   "cell_type": "code",
   "execution_count": 16,
   "metadata": {},
   "outputs": [
    {
     "data": {
      "text/plain": [
       "21122"
      ]
     },
     "execution_count": 16,
     "metadata": {},
     "output_type": "execute_result"
    }
   ],
   "source": [
    "len(gals[gals['StellarMass']*1.0E10/0.673>10**8.5]['StellarMass']*1.0E10/0.673)"
   ]
  },
  {
   "cell_type": "markdown",
   "metadata": {},
   "source": [
    "# Cutting galaxies"
   ]
  },
  {
   "cell_type": "code",
   "execution_count": 17,
   "metadata": {
    "collapsed": true
   },
   "outputs": [],
   "source": [
    "gals2 =gals[gals['StellarMass']*1.0E10/0.673>10**8.5]"
   ]
  },
  {
   "cell_type": "code",
   "execution_count": 18,
   "metadata": {},
   "outputs": [
    {
     "data": {
      "text/plain": [
       "array([  2.63575808e+09,   4.87133984e+08,   1.98012846e+10, ...,\n",
       "         1.95747930e+09,   1.98673203e+09,   6.17012608e+08], dtype=float32)"
      ]
     },
     "execution_count": 18,
     "metadata": {},
     "output_type": "execute_result"
    }
   ],
   "source": [
    "gals2['StellarMass']*1.0E10/0.673"
   ]
  },
  {
   "cell_type": "code",
   "execution_count": null,
   "metadata": {
    "collapsed": true
   },
   "outputs": [],
   "source": []
  },
  {
   "cell_type": "code",
   "execution_count": null,
   "metadata": {
    "collapsed": true
   },
   "outputs": [],
   "source": []
  }
 ],
 "metadata": {
  "kernelspec": {
   "display_name": "Python 3",
   "language": "python",
   "name": "python3"
  },
  "language_info": {
   "codemirror_mode": {
    "name": "ipython",
    "version": 3
   },
   "file_extension": ".py",
   "mimetype": "text/x-python",
   "name": "python",
   "nbconvert_exporter": "python",
   "pygments_lexer": "ipython3",
   "version": "3.6.1"
  }
 },
 "nbformat": 4,
 "nbformat_minor": 2
}
