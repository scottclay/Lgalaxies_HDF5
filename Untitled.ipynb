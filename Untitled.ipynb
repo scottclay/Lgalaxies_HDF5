{
 "cells": [
  {
   "cell_type": "code",
   "execution_count": 1,
   "metadata": {
    "collapsed": true
   },
   "outputs": [],
   "source": [
    "import pandas as pd\n",
    "import time"
   ]
  },
  {
   "cell_type": "code",
   "execution_count": 2,
   "metadata": {},
   "outputs": [
    {
     "name": "stdout",
     "output_type": "stream",
     "text": [
      "[Errno 2] No such file or directory: './read_data_pandas_hdf5/'\n",
      "/Users/scottclay/RESEARCH/lgalaxies/Lgalaxies_Analysis/read_data_pandas_hdf5\n"
     ]
    }
   ],
   "source": [
    "cd ./read_data_pandas_hdf5/"
   ]
  },
  {
   "cell_type": "code",
   "execution_count": 3,
   "metadata": {},
   "outputs": [
    {
     "name": "stdout",
     "output_type": "stream",
     "text": [
      "88.39515995979309 secs\n"
     ]
    },
    {
     "data": {
      "text/html": [
       "<div>\n",
       "<style>\n",
       "    .dataframe thead tr:only-child th {\n",
       "        text-align: right;\n",
       "    }\n",
       "\n",
       "    .dataframe thead th {\n",
       "        text-align: left;\n",
       "    }\n",
       "\n",
       "    .dataframe tbody tr th {\n",
       "        vertical-align: top;\n",
       "    }\n",
       "</style>\n",
       "<table border=\"1\" class=\"dataframe\">\n",
       "  <thead>\n",
       "    <tr style=\"text-align: right;\">\n",
       "      <th></th>\n",
       "      <th>Type</th>\n",
       "      <th>ColdGas</th>\n",
       "      <th>StellarMass</th>\n",
       "      <th>BulgeMass</th>\n",
       "      <th>DiskMass</th>\n",
       "      <th>HotGas</th>\n",
       "      <th>ICM</th>\n",
       "      <th>Sfr</th>\n",
       "      <th>SfrBulge</th>\n",
       "      <th>GasDiskRadius</th>\n",
       "      <th>...</th>\n",
       "      <th>Dust.He</th>\n",
       "      <th>Dust.C</th>\n",
       "      <th>Dust.N</th>\n",
       "      <th>Dust.O</th>\n",
       "      <th>Dust.Ne</th>\n",
       "      <th>Dust.Mg</th>\n",
       "      <th>Dust.Si</th>\n",
       "      <th>Dust.S</th>\n",
       "      <th>Dust.Ca</th>\n",
       "      <th>Dust.Fe</th>\n",
       "    </tr>\n",
       "  </thead>\n",
       "  <tbody>\n",
       "    <tr>\n",
       "      <th>0</th>\n",
       "      <td>0</td>\n",
       "      <td>0.160346</td>\n",
       "      <td>0.012535</td>\n",
       "      <td>0.000000</td>\n",
       "      <td>0.012535</td>\n",
       "      <td>0.095083</td>\n",
       "      <td>0.0</td>\n",
       "      <td>0.070707</td>\n",
       "      <td>0.0</td>\n",
       "      <td>0.012735</td>\n",
       "      <td>...</td>\n",
       "      <td>0.0</td>\n",
       "      <td>628166.25</td>\n",
       "      <td>0.0</td>\n",
       "      <td>1939242.875</td>\n",
       "      <td>0.0</td>\n",
       "      <td>305.451324</td>\n",
       "      <td>1035.150513</td>\n",
       "      <td>0.0</td>\n",
       "      <td>0.0</td>\n",
       "      <td>156684.921875</td>\n",
       "    </tr>\n",
       "    <tr>\n",
       "      <th>1</th>\n",
       "      <td>1</td>\n",
       "      <td>0.084843</td>\n",
       "      <td>0.177387</td>\n",
       "      <td>0.015681</td>\n",
       "      <td>0.161706</td>\n",
       "      <td>0.042501</td>\n",
       "      <td>0.0</td>\n",
       "      <td>0.154248</td>\n",
       "      <td>0.0</td>\n",
       "      <td>0.004789</td>\n",
       "      <td>...</td>\n",
       "      <td>0.0</td>\n",
       "      <td>1329056.75</td>\n",
       "      <td>0.0</td>\n",
       "      <td>3352699.000</td>\n",
       "      <td>0.0</td>\n",
       "      <td>6425.539551</td>\n",
       "      <td>97680.726562</td>\n",
       "      <td>0.0</td>\n",
       "      <td>0.0</td>\n",
       "      <td>198600.875000</td>\n",
       "    </tr>\n",
       "  </tbody>\n",
       "</table>\n",
       "<p>2 rows × 93 columns</p>\n",
       "</div>"
      ],
      "text/plain": [
       "   Type   ColdGas  StellarMass  BulgeMass  DiskMass    HotGas  ICM       Sfr  \\\n",
       "0     0  0.160346     0.012535   0.000000  0.012535  0.095083  0.0  0.070707   \n",
       "1     1  0.084843     0.177387   0.015681  0.161706  0.042501  0.0  0.154248   \n",
       "\n",
       "   SfrBulge  GasDiskRadius      ...        Dust.He      Dust.C  Dust.N  \\\n",
       "0       0.0       0.012735      ...            0.0   628166.25     0.0   \n",
       "1       0.0       0.004789      ...            0.0  1329056.75     0.0   \n",
       "\n",
       "        Dust.O  Dust.Ne      Dust.Mg       Dust.Si  Dust.S  Dust.Ca  \\\n",
       "0  1939242.875      0.0   305.451324   1035.150513     0.0      0.0   \n",
       "1  3352699.000      0.0  6425.539551  97680.726562     0.0      0.0   \n",
       "\n",
       "         Dust.Fe  \n",
       "0  156684.921875  \n",
       "1  198600.875000  \n",
       "\n",
       "[2 rows x 93 columns]"
      ]
     },
     "execution_count": 3,
     "metadata": {},
     "output_type": "execute_result"
    }
   ],
   "source": [
    "start = time.time()\n",
    "for i in range(0,512):\n",
    "        for j in range(0,16):\n",
    "            try:\n",
    "                #A = pd.read_hdf(\"./data/lgal_z\"+str(j)+\".pkl.hdf\")\n",
    "                A = pd.read_pickle(\"./data/lgal_z\"+str(j)+\"pandas.pkl\")\n",
    "                #print(j)\n",
    "            except ValueError:\n",
    "                pass\n",
    "                #print(i,j,\" failed\")\n",
    "end = time.time()\n",
    "pandas_pickle_time = end - start\n",
    "print(str((end - start)) + \" secs\")\n",
    "pd.read_pickle(\"./data/lgal_z0pandas.pkl\").head(2)"
   ]
  },
  {
   "cell_type": "code",
   "execution_count": 4,
   "metadata": {},
   "outputs": [
    {
     "name": "stdout",
     "output_type": "stream",
     "text": [
      "349.57093811035156 secs\n"
     ]
    },
    {
     "data": {
      "text/html": [
       "<div>\n",
       "<style>\n",
       "    .dataframe thead tr:only-child th {\n",
       "        text-align: right;\n",
       "    }\n",
       "\n",
       "    .dataframe thead th {\n",
       "        text-align: left;\n",
       "    }\n",
       "\n",
       "    .dataframe tbody tr th {\n",
       "        vertical-align: top;\n",
       "    }\n",
       "</style>\n",
       "<table border=\"1\" class=\"dataframe\">\n",
       "  <thead>\n",
       "    <tr style=\"text-align: right;\">\n",
       "      <th></th>\n",
       "      <th>Type</th>\n",
       "      <th>ColdGas</th>\n",
       "      <th>StellarMass</th>\n",
       "      <th>BulgeMass</th>\n",
       "      <th>DiskMass</th>\n",
       "      <th>HotGas</th>\n",
       "      <th>ICM</th>\n",
       "      <th>Sfr</th>\n",
       "      <th>SfrBulge</th>\n",
       "      <th>GasDiskRadius</th>\n",
       "      <th>...</th>\n",
       "      <th>Dust.He</th>\n",
       "      <th>Dust.C</th>\n",
       "      <th>Dust.N</th>\n",
       "      <th>Dust.O</th>\n",
       "      <th>Dust.Ne</th>\n",
       "      <th>Dust.Mg</th>\n",
       "      <th>Dust.Si</th>\n",
       "      <th>Dust.S</th>\n",
       "      <th>Dust.Ca</th>\n",
       "      <th>Dust.Fe</th>\n",
       "    </tr>\n",
       "  </thead>\n",
       "  <tbody>\n",
       "    <tr>\n",
       "      <th>0</th>\n",
       "      <td>0</td>\n",
       "      <td>0.160346</td>\n",
       "      <td>0.012535</td>\n",
       "      <td>0.000000</td>\n",
       "      <td>0.012535</td>\n",
       "      <td>0.095083</td>\n",
       "      <td>0.0</td>\n",
       "      <td>0.070707</td>\n",
       "      <td>0.0</td>\n",
       "      <td>0.012735</td>\n",
       "      <td>...</td>\n",
       "      <td>0.0</td>\n",
       "      <td>628166.25</td>\n",
       "      <td>0.0</td>\n",
       "      <td>1939242.875</td>\n",
       "      <td>0.0</td>\n",
       "      <td>305.451324</td>\n",
       "      <td>1035.150513</td>\n",
       "      <td>0.0</td>\n",
       "      <td>0.0</td>\n",
       "      <td>156684.921875</td>\n",
       "    </tr>\n",
       "    <tr>\n",
       "      <th>1</th>\n",
       "      <td>1</td>\n",
       "      <td>0.084843</td>\n",
       "      <td>0.177387</td>\n",
       "      <td>0.015681</td>\n",
       "      <td>0.161706</td>\n",
       "      <td>0.042501</td>\n",
       "      <td>0.0</td>\n",
       "      <td>0.154248</td>\n",
       "      <td>0.0</td>\n",
       "      <td>0.004789</td>\n",
       "      <td>...</td>\n",
       "      <td>0.0</td>\n",
       "      <td>1329056.75</td>\n",
       "      <td>0.0</td>\n",
       "      <td>3352699.000</td>\n",
       "      <td>0.0</td>\n",
       "      <td>6425.539551</td>\n",
       "      <td>97680.726562</td>\n",
       "      <td>0.0</td>\n",
       "      <td>0.0</td>\n",
       "      <td>198600.875000</td>\n",
       "    </tr>\n",
       "  </tbody>\n",
       "</table>\n",
       "<p>2 rows × 93 columns</p>\n",
       "</div>"
      ],
      "text/plain": [
       "   Type   ColdGas  StellarMass  BulgeMass  DiskMass    HotGas  ICM       Sfr  \\\n",
       "0     0  0.160346     0.012535   0.000000  0.012535  0.095083  0.0  0.070707   \n",
       "1     1  0.084843     0.177387   0.015681  0.161706  0.042501  0.0  0.154248   \n",
       "\n",
       "   SfrBulge  GasDiskRadius      ...        Dust.He      Dust.C  Dust.N  \\\n",
       "0       0.0       0.012735      ...            0.0   628166.25     0.0   \n",
       "1       0.0       0.004789      ...            0.0  1329056.75     0.0   \n",
       "\n",
       "        Dust.O  Dust.Ne      Dust.Mg       Dust.Si  Dust.S  Dust.Ca  \\\n",
       "0  1939242.875      0.0   305.451324   1035.150513     0.0      0.0   \n",
       "1  3352699.000      0.0  6425.539551  97680.726562     0.0      0.0   \n",
       "\n",
       "         Dust.Fe  \n",
       "0  156684.921875  \n",
       "1  198600.875000  \n",
       "\n",
       "[2 rows x 93 columns]"
      ]
     },
     "execution_count": 4,
     "metadata": {},
     "output_type": "execute_result"
    }
   ],
   "source": [
    "start = time.time()\n",
    "for i in range(0,512):\n",
    "        for j in range(0,16):\n",
    "            try:\n",
    "                B = pd.read_hdf(\"./data/lgal_z\"+str(j)+\"pandas.hdf\",columns=['Type','Dust.C'])\n",
    "                #print(j)\n",
    "            except ValueError:\n",
    "                pass\n",
    "                #print(i,j,\" failed\")\n",
    "end = time.time()\n",
    "pandas_hdf5_time = end - start\n",
    "print(str((end - start)) + \" secs\")\n",
    "#pd.read_hdf(\"./data/lgal_z0pandas.hdf\",columns=['Type','Dust.C']).head(2)\n",
    "pd.read_hdf(\"./data/lgal_z0pandas.hdf\").head(2)"
   ]
  },
  {
   "cell_type": "code",
   "execution_count": 5,
   "metadata": {},
   "outputs": [
    {
     "name": "stdout",
     "output_type": "stream",
     "text": [
      "47.95202016830444 secs\n"
     ]
    },
    {
     "data": {
      "text/plain": [
       "(0,  0.16034566,  0.01253473,  0.,  0.01253473,  0.09508331,  0., [  1.96429010e-05,   2.84727372e-04,   7.23087433e-05], [ 0.,  0.,  0.], [  2.23552433e-06,   2.93505782e-05,  -2.65424751e-06], [  1.53810493e-06,   2.31420036e-05,   4.92734307e-06], [  8.90891715e-06,   1.41200610e-04,   1.97738882e-05], [ 0.,  0.,  0.],  0.07070739,  0.,  0.01273489, [-15.83811665, -15.74319744], [-15.85059166, -15.7519989 ], [  1.38743200e+08,   4.70600560e+07,   5.88678633e+04,   1.46508867e+04,   2.94605156e+05,   2.89798418e+04,   2.10873809e+04,   2.11382363e+04,   1.09457344e+04,   1.42501807e+03,   2.72156445e+04], [ 0.,  0.,  0.,  0.,  0.,  0.,  0.,  0.,  0.,  0.,  0.], [  1.77367501e+09,   6.03056320e+08,   3.34294375e+05,   2.30782641e+05,   1.11044912e+06,   3.48812344e+05,   2.52056656e+05,   2.54939719e+05,   1.32185094e+05,   1.73330820e+04,   1.50831797e+05], [  1.05860371e+09,   3.53765856e+08,   6.77825547e+04,   1.70495586e+04,   2.47896938e+05,   2.80671543e+04,   2.03164902e+04,   2.05733340e+04,   1.06337070e+04,   1.39190381e+03,   2.43493320e+04], [  6.60955382e-04,   3.87330307e-04,   1.12233411e-05,   2.89105773e-02,   5.55994734e-03], [  0.00000000e+00,   0.00000000e+00,   6.28166250e+05,   0.00000000e+00,   1.93924288e+06,   0.00000000e+00,   3.05451324e+02,   1.03515051e+03,   0.00000000e+00,   0.00000000e+00,   1.56684922e+05],  0.00849486)"
      ]
     },
     "execution_count": 5,
     "metadata": {},
     "output_type": "execute_result"
    }
   ],
   "source": [
    "import h5py\n",
    "start = time.time()\n",
    "for i in range(0,512):\n",
    "        for j in range(0,16):\n",
    "            try:\n",
    "                h5save = h5py.File(\"./data/lgal_z\"+str(j)+\".hdf5\", \"r\")\n",
    "                b = h5save['gals'][:]\n",
    "                h5save.close()\n",
    "                #print(j)\n",
    "            except ValueError:\n",
    "                pass\n",
    "                #print(i,j,\" failed\")\n",
    "end = time.time()\n",
    "oldpickle_to_hdf5_time = end - start\n",
    "print(str((end - start)) + \" secs\")\n",
    "\n",
    "h5save = h5py.File(\"mytestfile.hdf5\", \"r\")\n",
    "b = h5save['gals'][:]\n",
    "h5save.close()\n",
    "b[0]"
   ]
  },
  {
   "cell_type": "code",
   "execution_count": 6,
   "metadata": {},
   "outputs": [
    {
     "name": "stdout",
     "output_type": "stream",
     "text": [
      "40.432592153549194 secs\n"
     ]
    },
    {
     "data": {
      "text/plain": [
       "array([],\n",
       "      dtype=[('Type', '<i4'), ('ColdGas', '<f4'), ('StellarMass', '<f4'), ('BulgeMass', '<f4'), ('DiskMass', '<f4'), ('HotGas', '<f4'), ('ICM', '<f4'), ('MetalsColdGas', '<f4', (3,)), ('MetalsBulgeMass', '<f4', (3,)), ('MetalsDiskMass', '<f4', (3,)), ('MetalsHotGas', '<f4', (3,)), ('MetalsEjectedMass', '<f4', (3,)), ('MetalsICM', '<f4', (3,)), ('Sfr', '<f4'), ('SfrBulge', '<f4'), ('GasDiskRadius', '<f4'), ('MagDust', '<f4', (2,)), ('Mag', '<f4', (2,)), ('DiskMass_elements', '<f4', (11,)), ('BulgeMass_elements', '<f4', (11,)), ('ColdGas_elements', '<f4', (11,)), ('HotGas_elements', '<f4', (11,)), ('DustRatesISM', '<f4', (5,)), ('Dust_elements', '<f4', (11,)), ('Attenuation_Dust', '<f4')])"
      ]
     },
     "execution_count": 6,
     "metadata": {},
     "output_type": "execute_result"
    }
   ],
   "source": [
    "import pickle as cPickle\n",
    "start = time.time()\n",
    "for i in range(0,512):\n",
    "        for j in range(0,16):\n",
    "            try:\n",
    "                fin_N0 = open('./data/lgal_z'+str(j)+'.pkl','rb')\n",
    "                D=cPickle.load(fin_N0)\n",
    "                fin_N0.close()\n",
    "                #print(j)\n",
    "            except ValueError:\n",
    "                pass\n",
    "                #print(i,j,\" failed\")\n",
    "end = time.time()\n",
    "old_pickle_time = end - start\n",
    "print(str((end - start)) + \" secs\")\n",
    "D\n",
    "\n"
   ]
  },
  {
   "cell_type": "code",
   "execution_count": 7,
   "metadata": {
    "collapsed": true
   },
   "outputs": [],
   "source": [
    "#Limit = (10**9)/(1.0E10/0.673)\n",
    "#print(Limit)\n",
    "#C[C['StellarMass']>Limit].info()"
   ]
  },
  {
   "cell_type": "code",
   "execution_count": 8,
   "metadata": {},
   "outputs": [
    {
     "name": "stdout",
     "output_type": "stream",
     "text": [
      "Read in times!\n",
      "Reading in a pickled pandas dataframe = 88.395160 seconds\n",
      "Reading in a hdf5 pandas dataframe = 349.570938 seconds\n",
      "Reading in the origial L-Galaxies pickled data = 40.432592 seconds\n",
      "Reading in the converted L-Galaxies pickled data to HDF5 format = 47.952020 seconds\n"
     ]
    }
   ],
   "source": [
    "#pandas_pickle_time = end - start\n",
    "#pandas_hdf5_time = end - start\n",
    "#oldpickle_to_hdf5_time\n",
    "#old_pickle_time\n",
    "\n",
    "\n",
    "print(\"Read in times!\")\n",
    "print(\"Reading in a pickled pandas dataframe = %f seconds\" % (pandas_pickle_time))\n",
    "print(\"Reading in a hdf5 pandas dataframe = %f seconds\" % (pandas_hdf5_time))\n",
    "print(\"Reading in the origial L-Galaxies pickled data = %f seconds\" % (old_pickle_time))\n",
    "print(\"Reading in the converted L-Galaxies pickled data to HDF5 format = %f seconds\" % (oldpickle_to_hdf5_time))"
   ]
  },
  {
   "cell_type": "code",
   "execution_count": null,
   "metadata": {
    "collapsed": true
   },
   "outputs": [],
   "source": []
  }
 ],
 "metadata": {
  "kernelspec": {
   "display_name": "Python 3",
   "language": "python",
   "name": "python3"
  },
  "language_info": {
   "codemirror_mode": {
    "name": "ipython",
    "version": 3
   },
   "file_extension": ".py",
   "mimetype": "text/x-python",
   "name": "python",
   "nbconvert_exporter": "python",
   "pygments_lexer": "ipython3",
   "version": "3.6.1"
  }
 },
 "nbformat": 4,
 "nbformat_minor": 2
}
